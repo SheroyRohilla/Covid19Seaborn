{
 "cells": [
  {
   "cell_type": "code",
   "execution_count": 1,
   "metadata": {},
   "outputs": [],
   "source": [
    "import pandas as pd\n",
    "import numpy as np\n",
    "import matplotlib.pyplot as plt\n",
    "import seaborn as sns"
   ]
  },
  {
   "cell_type": "markdown",
   "metadata": {},
   "source": [
    "Reading data from the folder"
   ]
  },
  {
   "cell_type": "code",
   "execution_count": 4,
   "metadata": {},
   "outputs": [],
   "source": [
    "data = pd.read_csv(r\"C:\\Users\\Sheroy Rohilla\\Desktop\\covid19_italy_region.csv\")"
   ]
  },
  {
   "cell_type": "markdown",
   "metadata": {},
   "source": [
    "Taking account the initial number of rows and coloumns"
   ]
  },
  {
   "cell_type": "code",
   "execution_count": 160,
   "metadata": {},
   "outputs": [
    {
     "data": {
      "text/plain": [
       "(6027, 17)"
      ]
     },
     "execution_count": 160,
     "metadata": {},
     "output_type": "execute_result"
    }
   ],
   "source": [
    "data.shape"
   ]
  },
  {
   "cell_type": "markdown",
   "metadata": {},
   "source": [
    "Checking whether null values are there in it or not and that too in which column "
   ]
  },
  {
   "cell_type": "code",
   "execution_count": 161,
   "metadata": {},
   "outputs": [
    {
     "data": {
      "text/plain": [
       "SNo                             0\n",
       "Date                            0\n",
       "Country                         0\n",
       "RegionCode                      0\n",
       "RegionName                      0\n",
       "Latitude                        0\n",
       "Longitude                       0\n",
       "HospitalizedPatients            0\n",
       "IntensiveCarePatients           0\n",
       "TotalHospitalizedPatients       0\n",
       "HomeConfinement                 0\n",
       "CurrentPositiveCases            0\n",
       "NewPositiveCases                0\n",
       "Recovered                       0\n",
       "Deaths                          0\n",
       "TotalPositiveCases              0\n",
       "TestsPerformed               1155\n",
       "dtype: int64"
      ]
     },
     "execution_count": 161,
     "metadata": {},
     "output_type": "execute_result"
    }
   ],
   "source": [
    "data.isnull().sum()"
   ]
  },
  {
   "cell_type": "code",
   "execution_count": 162,
   "metadata": {},
   "outputs": [],
   "source": [
    "data = data.dropna(how='any')"
   ]
  },
  {
   "cell_type": "markdown",
   "metadata": {},
   "source": [
    "Dropping null values from the dataset"
   ]
  },
  {
   "cell_type": "code",
   "execution_count": 163,
   "metadata": {},
   "outputs": [
    {
     "data": {
      "text/plain": [
       "(4872, 17)"
      ]
     },
     "execution_count": 163,
     "metadata": {},
     "output_type": "execute_result"
    }
   ],
   "source": [
    "data.shape"
   ]
  },
  {
   "cell_type": "code",
   "execution_count": 164,
   "metadata": {},
   "outputs": [
    {
     "data": {
      "text/html": [
       "<div>\n",
       "<style scoped>\n",
       "    .dataframe tbody tr th:only-of-type {\n",
       "        vertical-align: middle;\n",
       "    }\n",
       "\n",
       "    .dataframe tbody tr th {\n",
       "        vertical-align: top;\n",
       "    }\n",
       "\n",
       "    .dataframe thead th {\n",
       "        text-align: right;\n",
       "    }\n",
       "</style>\n",
       "<table border=\"1\" class=\"dataframe\">\n",
       "  <thead>\n",
       "    <tr style=\"text-align: right;\">\n",
       "      <th></th>\n",
       "      <th>SNo</th>\n",
       "      <th>Date</th>\n",
       "      <th>Country</th>\n",
       "      <th>RegionCode</th>\n",
       "      <th>RegionName</th>\n",
       "      <th>Latitude</th>\n",
       "      <th>Longitude</th>\n",
       "      <th>HospitalizedPatients</th>\n",
       "      <th>IntensiveCarePatients</th>\n",
       "      <th>TotalHospitalizedPatients</th>\n",
       "      <th>HomeConfinement</th>\n",
       "      <th>CurrentPositiveCases</th>\n",
       "      <th>NewPositiveCases</th>\n",
       "      <th>Recovered</th>\n",
       "      <th>Deaths</th>\n",
       "      <th>TotalPositiveCases</th>\n",
       "      <th>TestsPerformed</th>\n",
       "    </tr>\n",
       "  </thead>\n",
       "  <tbody>\n",
       "    <tr>\n",
       "      <th>1155</th>\n",
       "      <td>1155</td>\n",
       "      <td>2020-04-19T17:00:00</td>\n",
       "      <td>ITA</td>\n",
       "      <td>13</td>\n",
       "      <td>Abruzzo</td>\n",
       "      <td>42.351222</td>\n",
       "      <td>13.398438</td>\n",
       "      <td>317</td>\n",
       "      <td>40</td>\n",
       "      <td>357</td>\n",
       "      <td>1630</td>\n",
       "      <td>1987</td>\n",
       "      <td>34</td>\n",
       "      <td>276</td>\n",
       "      <td>258</td>\n",
       "      <td>2521</td>\n",
       "      <td>22424.0</td>\n",
       "    </tr>\n",
       "    <tr>\n",
       "      <th>1156</th>\n",
       "      <td>1156</td>\n",
       "      <td>2020-04-19T17:00:00</td>\n",
       "      <td>ITA</td>\n",
       "      <td>17</td>\n",
       "      <td>Basilicata</td>\n",
       "      <td>40.639471</td>\n",
       "      <td>15.805148</td>\n",
       "      <td>59</td>\n",
       "      <td>8</td>\n",
       "      <td>67</td>\n",
       "      <td>180</td>\n",
       "      <td>247</td>\n",
       "      <td>3</td>\n",
       "      <td>71</td>\n",
       "      <td>24</td>\n",
       "      <td>342</td>\n",
       "      <td>6528.0</td>\n",
       "    </tr>\n",
       "    <tr>\n",
       "      <th>1157</th>\n",
       "      <td>1157</td>\n",
       "      <td>2020-04-19T17:00:00</td>\n",
       "      <td>ITA</td>\n",
       "      <td>18</td>\n",
       "      <td>Calabria</td>\n",
       "      <td>38.905976</td>\n",
       "      <td>16.594402</td>\n",
       "      <td>142</td>\n",
       "      <td>6</td>\n",
       "      <td>148</td>\n",
       "      <td>696</td>\n",
       "      <td>844</td>\n",
       "      <td>24</td>\n",
       "      <td>116</td>\n",
       "      <td>75</td>\n",
       "      <td>1035</td>\n",
       "      <td>22234.0</td>\n",
       "    </tr>\n",
       "    <tr>\n",
       "      <th>1158</th>\n",
       "      <td>1158</td>\n",
       "      <td>2020-04-19T17:00:00</td>\n",
       "      <td>ITA</td>\n",
       "      <td>15</td>\n",
       "      <td>Campania</td>\n",
       "      <td>40.839566</td>\n",
       "      <td>14.250850</td>\n",
       "      <td>590</td>\n",
       "      <td>61</td>\n",
       "      <td>651</td>\n",
       "      <td>2371</td>\n",
       "      <td>3022</td>\n",
       "      <td>41</td>\n",
       "      <td>703</td>\n",
       "      <td>304</td>\n",
       "      <td>4029</td>\n",
       "      <td>34994.0</td>\n",
       "    </tr>\n",
       "    <tr>\n",
       "      <th>1159</th>\n",
       "      <td>1159</td>\n",
       "      <td>2020-04-19T17:00:00</td>\n",
       "      <td>ITA</td>\n",
       "      <td>8</td>\n",
       "      <td>Emilia-Romagna</td>\n",
       "      <td>44.494367</td>\n",
       "      <td>11.341721</td>\n",
       "      <td>3166</td>\n",
       "      <td>289</td>\n",
       "      <td>3455</td>\n",
       "      <td>10097</td>\n",
       "      <td>13552</td>\n",
       "      <td>376</td>\n",
       "      <td>5985</td>\n",
       "      <td>3023</td>\n",
       "      <td>22560</td>\n",
       "      <td>88776.0</td>\n",
       "    </tr>\n",
       "  </tbody>\n",
       "</table>\n",
       "</div>"
      ],
      "text/plain": [
       "       SNo                 Date Country  RegionCode      RegionName  \\\n",
       "1155  1155  2020-04-19T17:00:00     ITA          13         Abruzzo   \n",
       "1156  1156  2020-04-19T17:00:00     ITA          17      Basilicata   \n",
       "1157  1157  2020-04-19T17:00:00     ITA          18        Calabria   \n",
       "1158  1158  2020-04-19T17:00:00     ITA          15        Campania   \n",
       "1159  1159  2020-04-19T17:00:00     ITA           8  Emilia-Romagna   \n",
       "\n",
       "       Latitude  Longitude  HospitalizedPatients  IntensiveCarePatients  \\\n",
       "1155  42.351222  13.398438                   317                     40   \n",
       "1156  40.639471  15.805148                    59                      8   \n",
       "1157  38.905976  16.594402                   142                      6   \n",
       "1158  40.839566  14.250850                   590                     61   \n",
       "1159  44.494367  11.341721                  3166                    289   \n",
       "\n",
       "      TotalHospitalizedPatients  HomeConfinement  CurrentPositiveCases  \\\n",
       "1155                        357             1630                  1987   \n",
       "1156                         67              180                   247   \n",
       "1157                        148              696                   844   \n",
       "1158                        651             2371                  3022   \n",
       "1159                       3455            10097                 13552   \n",
       "\n",
       "      NewPositiveCases  Recovered  Deaths  TotalPositiveCases  TestsPerformed  \n",
       "1155                34        276     258                2521         22424.0  \n",
       "1156                 3         71      24                 342          6528.0  \n",
       "1157                24        116      75                1035         22234.0  \n",
       "1158                41        703     304                4029         34994.0  \n",
       "1159               376       5985    3023               22560         88776.0  "
      ]
     },
     "execution_count": 164,
     "metadata": {},
     "output_type": "execute_result"
    }
   ],
   "source": [
    "data.head()"
   ]
  },
  {
   "cell_type": "markdown",
   "metadata": {},
   "source": [
    "Converting date into datetime"
   ]
  },
  {
   "cell_type": "markdown",
   "metadata": {},
   "source": [
    "Removing unnecessary data"
   ]
  },
  {
   "cell_type": "code",
   "execution_count": 165,
   "metadata": {},
   "outputs": [],
   "source": [
    "req_data = data.copy().drop(['Date','SNo','RegionCode','Country','HospitalizedPatients', 'IntensiveCarePatients', 'HomeConfinement',\n",
    "                                                                                                     'NewPositiveCases', 'NewPositiveCases', 'TotalHospitalizedPatients',\n",
    "                                                                                                     'Latitude', 'Longitude'], axis=1).fillna(0)\n",
    "req_data.index = req_data[\"RegionName\"]\n",
    "req_data = req_data.drop(['RegionName'], axis=1)"
   ]
  },
  {
   "cell_type": "code",
   "execution_count": 166,
   "metadata": {},
   "outputs": [
    {
     "data": {
      "text/html": [
       "<div>\n",
       "<style scoped>\n",
       "    .dataframe tbody tr th:only-of-type {\n",
       "        vertical-align: middle;\n",
       "    }\n",
       "\n",
       "    .dataframe tbody tr th {\n",
       "        vertical-align: top;\n",
       "    }\n",
       "\n",
       "    .dataframe thead th {\n",
       "        text-align: right;\n",
       "    }\n",
       "</style>\n",
       "<table border=\"1\" class=\"dataframe\">\n",
       "  <thead>\n",
       "    <tr style=\"text-align: right;\">\n",
       "      <th></th>\n",
       "      <th>CurrentPositiveCases</th>\n",
       "      <th>Recovered</th>\n",
       "      <th>Deaths</th>\n",
       "      <th>TotalPositiveCases</th>\n",
       "      <th>TestsPerformed</th>\n",
       "    </tr>\n",
       "    <tr>\n",
       "      <th>RegionName</th>\n",
       "      <th></th>\n",
       "      <th></th>\n",
       "      <th></th>\n",
       "      <th></th>\n",
       "      <th></th>\n",
       "    </tr>\n",
       "  </thead>\n",
       "  <tbody>\n",
       "    <tr>\n",
       "      <th>Abruzzo</th>\n",
       "      <td>1987</td>\n",
       "      <td>276</td>\n",
       "      <td>258</td>\n",
       "      <td>2521</td>\n",
       "      <td>22424.0</td>\n",
       "    </tr>\n",
       "    <tr>\n",
       "      <th>Basilicata</th>\n",
       "      <td>247</td>\n",
       "      <td>71</td>\n",
       "      <td>24</td>\n",
       "      <td>342</td>\n",
       "      <td>6528.0</td>\n",
       "    </tr>\n",
       "    <tr>\n",
       "      <th>Calabria</th>\n",
       "      <td>844</td>\n",
       "      <td>116</td>\n",
       "      <td>75</td>\n",
       "      <td>1035</td>\n",
       "      <td>22234.0</td>\n",
       "    </tr>\n",
       "    <tr>\n",
       "      <th>Campania</th>\n",
       "      <td>3022</td>\n",
       "      <td>703</td>\n",
       "      <td>304</td>\n",
       "      <td>4029</td>\n",
       "      <td>34994.0</td>\n",
       "    </tr>\n",
       "    <tr>\n",
       "      <th>Emilia-Romagna</th>\n",
       "      <td>13552</td>\n",
       "      <td>5985</td>\n",
       "      <td>3023</td>\n",
       "      <td>22560</td>\n",
       "      <td>88776.0</td>\n",
       "    </tr>\n",
       "  </tbody>\n",
       "</table>\n",
       "</div>"
      ],
      "text/plain": [
       "                CurrentPositiveCases  Recovered  Deaths  TotalPositiveCases  \\\n",
       "RegionName                                                                    \n",
       "Abruzzo                         1987        276     258                2521   \n",
       "Basilicata                       247         71      24                 342   \n",
       "Calabria                         844        116      75                1035   \n",
       "Campania                        3022        703     304                4029   \n",
       "Emilia-Romagna                 13552       5985    3023               22560   \n",
       "\n",
       "                TestsPerformed  \n",
       "RegionName                      \n",
       "Abruzzo                22424.0  \n",
       "Basilicata              6528.0  \n",
       "Calabria               22234.0  \n",
       "Campania               34994.0  \n",
       "Emilia-Romagna         88776.0  "
      ]
     },
     "execution_count": 166,
     "metadata": {},
     "output_type": "execute_result"
    }
   ],
   "source": [
    "req_data.head()"
   ]
  },
  {
   "cell_type": "markdown",
   "metadata": {},
   "source": [
    "# Death"
   ]
  },
  {
   "cell_type": "code",
   "execution_count": 167,
   "metadata": {},
   "outputs": [
    {
     "data": {
      "text/plain": [
       "<seaborn.axisgrid.FacetGrid at 0x25c29a8aac0>"
      ]
     },
     "execution_count": 167,
     "metadata": {},
     "output_type": "execute_result"
    },
    {
     "data": {
      "image/png": "[encoded data removed]",
      "text/plain": [
       "<Figure size 360x360 with 1 Axes>"
      ]
     },
     "metadata": {
      "needs_background": "light"
     },
     "output_type": "display_data"
    }
   ],
   "source": [
    "sns.relplot(x = 'TotalPositiveCases',y = 'Deaths',kind = 'line',data = req_data )"
   ]
  },
  {
   "cell_type": "code",
   "execution_count": 168,
   "metadata": {},
   "outputs": [
    {
     "data": {
      "text/plain": [
       "<seaborn.axisgrid.FacetGrid at 0x25c299f7f40>"
      ]
     },
     "execution_count": 168,
     "metadata": {},
     "output_type": "execute_result"
    },
    {
     "data": {
      "image/png": "[encoded data removed]",
      "text/plain": [
       "<Figure size 360x360 with 1 Axes>"
      ]
     },
     "metadata": {
      "needs_background": "light"
     },
     "output_type": "display_data"
    }
   ],
   "source": [
    "sns.relplot(x = 'TotalPositiveCases',y = 'Deaths',data = req_data)"
   ]
  },
  {
   "cell_type": "code",
   "execution_count": 169,
   "metadata": {},
   "outputs": [
    {
     "data": {
      "text/plain": [
       "(4872, 5)"
      ]
     },
     "execution_count": 169,
     "metadata": {},
     "output_type": "execute_result"
    }
   ],
   "source": [
    "req_data.shape"
   ]
  },
  {
   "cell_type": "markdown",
   "metadata": {},
   "source": [
    "Finding the best fit line"
   ]
  },
  {
   "cell_type": "code",
   "execution_count": 170,
   "metadata": {},
   "outputs": [],
   "source": [
    "from sklearn.linear_model import LinearRegression\n",
    "from sklearn.model_selection import train_test_split"
   ]
  },
  {
   "cell_type": "code",
   "execution_count": 171,
   "metadata": {},
   "outputs": [],
   "source": [
    "train = req_data.drop(['CurrentPositiveCases','Recovered','TestsPerformed','Deaths'],axis=1)\n",
    "test = req_data['Deaths']"
   ]
  },
  {
   "cell_type": "code",
   "execution_count": null,
   "metadata": {},
   "outputs": [],
   "source": []
  },
  {
   "cell_type": "code",
   "execution_count": 172,
   "metadata": {},
   "outputs": [],
   "source": [
    "X_train,X_test,y_train,y_test = train_test_split(train,test,test_size=0.7)"
   ]
  },
  {
   "cell_type": "code",
   "execution_count": 173,
   "metadata": {},
   "outputs": [],
   "source": [
    "regr = LinearRegression()"
   ]
  },
  {
   "cell_type": "code",
   "execution_count": 174,
   "metadata": {},
   "outputs": [
    {
     "data": {
      "text/plain": [
       "LinearRegression()"
      ]
     },
     "execution_count": 174,
     "metadata": {},
     "output_type": "execute_result"
    }
   ],
   "source": [
    "regr.fit(X_train,y_train)"
   ]
  },
  {
   "cell_type": "code",
   "execution_count": 175,
   "metadata": {},
   "outputs": [],
   "source": [
    "pred = regr.predict(X_test)"
   ]
  },
  {
   "cell_type": "code",
   "execution_count": 176,
   "metadata": {},
   "outputs": [
    {
     "name": "stdout",
     "output_type": "stream",
     "text": [
      "0.5998196654171386\n"
     ]
    }
   ],
   "source": [
    "print(regr.score(X_test,y_test))"
   ]
  },
  {
   "cell_type": "code",
   "execution_count": null,
   "metadata": {},
   "outputs": [],
   "source": [
    " "
   ]
  },
  {
   "cell_type": "markdown",
   "metadata": {},
   "source": [
    "# Recovered"
   ]
  },
  {
   "cell_type": "code",
   "execution_count": 177,
   "metadata": {},
   "outputs": [
    {
     "data": {
      "text/plain": [
       "<seaborn.axisgrid.FacetGrid at 0x25c2ad52a90>"
      ]
     },
     "execution_count": 177,
     "metadata": {},
     "output_type": "execute_result"
    },
    {
     "data": {
      "image/png": "[encoded data removed]",
      "text/plain": [
       "<Figure size 360x360 with 1 Axes>"
      ]
     },
     "metadata": {
      "needs_background": "light"
     },
     "output_type": "display_data"
    }
   ],
   "source": [
    "sns.relplot(x = 'TotalPositiveCases',y = 'Recovered',data = req_data,kind='line')"
   ]
  },
  {
   "cell_type": "code",
   "execution_count": 178,
   "metadata": {},
   "outputs": [
    {
     "data": {
      "text/plain": [
       "<seaborn.axisgrid.FacetGrid at 0x25c29a15910>"
      ]
     },
     "execution_count": 178,
     "metadata": {},
     "output_type": "execute_result"
    },
    {
     "data": {
      "image/png": "[encoded data removed]",
      "text/plain": [
       "<Figure size 360x360 with 1 Axes>"
      ]
     },
     "metadata": {
      "needs_background": "light"
     },
     "output_type": "display_data"
    }
   ],
   "source": [
    "sns.relplot(x = 'TotalPositiveCases',y = 'Recovered',data = req_data)"
   ]
  },
  {
   "cell_type": "code",
   "execution_count": 179,
   "metadata": {},
   "outputs": [],
   "source": [
    "train1 = req_data.drop(['CurrentPositiveCases','Deaths','TestsPerformed','Recovered'],axis=1)\n",
    "test1 = req_data['Recovered']"
   ]
  },
  {
   "cell_type": "code",
   "execution_count": 180,
   "metadata": {},
   "outputs": [
    {
     "data": {
      "text/html": [
       "<div>\n",
       "<style scoped>\n",
       "    .dataframe tbody tr th:only-of-type {\n",
       "        vertical-align: middle;\n",
       "    }\n",
       "\n",
       "    .dataframe tbody tr th {\n",
       "        vertical-align: top;\n",
       "    }\n",
       "\n",
       "    .dataframe thead th {\n",
       "        text-align: right;\n",
       "    }\n",
       "</style>\n",
       "<table border=\"1\" class=\"dataframe\">\n",
       "  <thead>\n",
       "    <tr style=\"text-align: right;\">\n",
       "      <th></th>\n",
       "      <th>TotalPositiveCases</th>\n",
       "    </tr>\n",
       "    <tr>\n",
       "      <th>RegionName</th>\n",
       "      <th></th>\n",
       "    </tr>\n",
       "  </thead>\n",
       "  <tbody>\n",
       "    <tr>\n",
       "      <th>Abruzzo</th>\n",
       "      <td>2521</td>\n",
       "    </tr>\n",
       "    <tr>\n",
       "      <th>Basilicata</th>\n",
       "      <td>342</td>\n",
       "    </tr>\n",
       "    <tr>\n",
       "      <th>Calabria</th>\n",
       "      <td>1035</td>\n",
       "    </tr>\n",
       "    <tr>\n",
       "      <th>Campania</th>\n",
       "      <td>4029</td>\n",
       "    </tr>\n",
       "    <tr>\n",
       "      <th>Emilia-Romagna</th>\n",
       "      <td>22560</td>\n",
       "    </tr>\n",
       "  </tbody>\n",
       "</table>\n",
       "</div>"
      ],
      "text/plain": [
       "                TotalPositiveCases\n",
       "RegionName                        \n",
       "Abruzzo                       2521\n",
       "Basilicata                     342\n",
       "Calabria                      1035\n",
       "Campania                      4029\n",
       "Emilia-Romagna               22560"
      ]
     },
     "execution_count": 180,
     "metadata": {},
     "output_type": "execute_result"
    }
   ],
   "source": [
    "train1.head()"
   ]
  },
  {
   "cell_type": "code",
   "execution_count": 181,
   "metadata": {},
   "outputs": [],
   "source": [
    "X_train_1,X_test_1,y_train_1,y_test_1 = train_test_split(train1,test1,test_size=0.7)"
   ]
  },
  {
   "cell_type": "code",
   "execution_count": 182,
   "metadata": {},
   "outputs": [
    {
     "data": {
      "text/html": [
       "<div>\n",
       "<style scoped>\n",
       "    .dataframe tbody tr th:only-of-type {\n",
       "        vertical-align: middle;\n",
       "    }\n",
       "\n",
       "    .dataframe tbody tr th {\n",
       "        vertical-align: top;\n",
       "    }\n",
       "\n",
       "    .dataframe thead th {\n",
       "        text-align: right;\n",
       "    }\n",
       "</style>\n",
       "<table border=\"1\" class=\"dataframe\">\n",
       "  <thead>\n",
       "    <tr style=\"text-align: right;\">\n",
       "      <th></th>\n",
       "      <th>TotalPositiveCases</th>\n",
       "    </tr>\n",
       "    <tr>\n",
       "      <th>RegionName</th>\n",
       "      <th></th>\n",
       "    </tr>\n",
       "  </thead>\n",
       "  <tbody>\n",
       "    <tr>\n",
       "      <th>Piemonte</th>\n",
       "      <td>31830</td>\n",
       "    </tr>\n",
       "    <tr>\n",
       "      <th>Friuli Venezia Giulia</th>\n",
       "      <td>30075</td>\n",
       "    </tr>\n",
       "    <tr>\n",
       "      <th>P.A. Bolzano</th>\n",
       "      <td>3003</td>\n",
       "    </tr>\n",
       "    <tr>\n",
       "      <th>Molise</th>\n",
       "      <td>534</td>\n",
       "    </tr>\n",
       "    <tr>\n",
       "      <th>Sardegna</th>\n",
       "      <td>16096</td>\n",
       "    </tr>\n",
       "    <tr>\n",
       "      <th>...</th>\n",
       "      <td>...</td>\n",
       "    </tr>\n",
       "    <tr>\n",
       "      <th>Friuli Venezia Giulia</th>\n",
       "      <td>11244</td>\n",
       "    </tr>\n",
       "    <tr>\n",
       "      <th>Marche</th>\n",
       "      <td>8143</td>\n",
       "    </tr>\n",
       "    <tr>\n",
       "      <th>Toscana</th>\n",
       "      <td>104875</td>\n",
       "    </tr>\n",
       "    <tr>\n",
       "      <th>P.A. Trento</th>\n",
       "      <td>5667</td>\n",
       "    </tr>\n",
       "    <tr>\n",
       "      <th>Molise</th>\n",
       "      <td>1498</td>\n",
       "    </tr>\n",
       "  </tbody>\n",
       "</table>\n",
       "<p>1461 rows × 1 columns</p>\n",
       "</div>"
      ],
      "text/plain": [
       "                       TotalPositiveCases\n",
       "RegionName                               \n",
       "Piemonte                            31830\n",
       "Friuli Venezia Giulia               30075\n",
       "P.A. Bolzano                         3003\n",
       "Molise                                534\n",
       "Sardegna                            16096\n",
       "...                                   ...\n",
       "Friuli Venezia Giulia               11244\n",
       "Marche                               8143\n",
       "Toscana                            104875\n",
       "P.A. Trento                          5667\n",
       "Molise                               1498\n",
       "\n",
       "[1461 rows x 1 columns]"
      ]
     },
     "execution_count": 182,
     "metadata": {},
     "output_type": "execute_result"
    }
   ],
   "source": [
    "X_train_1"
   ]
  },
  {
   "cell_type": "code",
   "execution_count": 183,
   "metadata": {},
   "outputs": [
    {
     "data": {
      "text/plain": [
       "RegionName\n",
       "Piemonte                 26904\n",
       "Friuli Venezia Giulia    14949\n",
       "P.A. Bolzano              2496\n",
       "Molise                     433\n",
       "Sardegna                  4972\n",
       "                         ...  \n",
       "Friuli Venezia Giulia     5470\n",
       "Marche                    6210\n",
       "Toscana                  64632\n",
       "P.A. Trento               4704\n",
       "Molise                     675\n",
       "Name: Recovered, Length: 1461, dtype: int64"
      ]
     },
     "execution_count": 183,
     "metadata": {},
     "output_type": "execute_result"
    }
   ],
   "source": [
    "y_train_1"
   ]
  },
  {
   "cell_type": "code",
   "execution_count": 184,
   "metadata": {},
   "outputs": [],
   "source": [
    "regr1 = LinearRegression()"
   ]
  },
  {
   "cell_type": "code",
   "execution_count": 185,
   "metadata": {},
   "outputs": [
    {
     "data": {
      "text/plain": [
       "LinearRegression()"
      ]
     },
     "execution_count": 185,
     "metadata": {},
     "output_type": "execute_result"
    }
   ],
   "source": [
    "regr1.fit(X_train_1,y_train_1)"
   ]
  },
  {
   "cell_type": "code",
   "execution_count": 186,
   "metadata": {},
   "outputs": [],
   "source": [
    "pred1 = regr1.predict(X_test_1)"
   ]
  },
  {
   "cell_type": "code",
   "execution_count": 187,
   "metadata": {},
   "outputs": [
    {
     "name": "stdout",
     "output_type": "stream",
     "text": [
      "0.8896831128093012\n"
     ]
    }
   ],
   "source": [
    "print(regr1.score(X_test_1,y_test_1))"
   ]
  },
  {
   "cell_type": "code",
   "execution_count": null,
   "metadata": {},
   "outputs": [],
   "source": []
  },
  {
   "cell_type": "code",
   "execution_count": null,
   "metadata": {},
   "outputs": [],
   "source": []
  },
  {
   "cell_type": "code",
   "execution_count": null,
   "metadata": {},
   "outputs": [],
   "source": []
  },
  {
   "cell_type": "code",
   "execution_count": null,
   "metadata": {},
   "outputs": [],
   "source": []
  },
  {
   "cell_type": "code",
   "execution_count": null,
   "metadata": {},
   "outputs": [],
   "source": []
  },
  {
   "cell_type": "code",
   "execution_count": null,
   "metadata": {},
   "outputs": [],
   "source": []
  }
 ],
 "metadata": {
  "kernelspec": {
   "display_name": "Python 3",
   "language": "python",
   "name": "python3"
  },
  "language_info": {
   "codemirror_mode": {
    "name": "ipython",
    "version": 3
   },
   "file_extension": ".py",
   "mimetype": "text/x-python",
   "name": "python",
   "nbconvert_exporter": "python",
   "pygments_lexer": "ipython3",
   "version": "3.8.3"
  }
 },
 "nbformat": 4,
 "nbformat_minor": 4
}
